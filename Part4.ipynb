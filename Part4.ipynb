{
  "nbformat": 4,
  "nbformat_minor": 0,
  "metadata": {
    "colab": {
      "provenance": [],
      "authorship_tag": "ABX9TyP0U6vNT6sXjYYn+3a7rVHr",
      "include_colab_link": true
    },
    "kernelspec": {
      "name": "python3",
      "display_name": "Python 3"
    },
    "language_info": {
      "name": "python"
    }
  },
  "cells": [
    {
      "cell_type": "markdown",
      "metadata": {
        "id": "view-in-github",
        "colab_type": "text"
      },
      "source": [
        "<a href=\"https://colab.research.google.com/github/khuramgill/Gen-Ai/blob/main/Part4.ipynb\" target=\"_parent\"><img src=\"https://colab.research.google.com/assets/colab-badge.svg\" alt=\"Open In Colab\"/></a>"
      ]
    },
    {
      "cell_type": "markdown",
      "source": [
        "# **Task4**"
      ],
      "metadata": {
        "id": "U3a1EAfu0TZL"
      }
    },
    {
      "cell_type": "markdown",
      "source": [
        "**load a pre-trained model (gloVe word vectors)**"
      ],
      "metadata": {
        "id": "RGROUjaW0yhY"
      }
    },
    {
      "cell_type": "code",
      "source": [
        "import gensim.downloader as api\n",
        "\n",
        "info = api.info()  # show info about available models/datasets\n",
        "model = api.load(\"glove-twitter-25\")  # download the model and return as object ready for use\n",
        "model.most_similar(\"cat\"),"
      ],
      "metadata": {
        "colab": {
          "base_uri": "https://localhost:8080/"
        },
        "collapsed": true,
        "id": "ntm1nEwj0cdo",
        "outputId": "94305886-a3b2-436e-d21a-1bf2c921391c"
      },
      "execution_count": null,
      "outputs": [
        {
          "output_type": "execute_result",
          "data": {
            "text/plain": [
              "[('dog', 0.9590820074081421),\n",
              " ('monkey', 0.920357882976532),\n",
              " ('bear', 0.9143136739730835),\n",
              " ('pet', 0.9108031392097473),\n",
              " ('girl', 0.8880629539489746),\n",
              " ('horse', 0.8872726559638977),\n",
              " ('kitty', 0.8870542049407959),\n",
              " ('puppy', 0.886769711971283),\n",
              " ('hot', 0.886525571346283),\n",
              " ('lady', 0.8845519423484802)]"
            ]
          },
          "metadata": {},
          "execution_count": 21
        }
      ]
    },
    {
      "cell_type": "markdown",
      "source": [
        "**Load a corpus and use it to train a Word2Vec model:**"
      ],
      "metadata": {
        "id": "xRno8MSXqhhl"
      }
    },
    {
      "cell_type": "code",
      "source": [
        "from gensim.models import Word2Vec\n",
        "import gensim.downloader as api\n",
        "\n",
        "# Load the corpus\n",
        "corpus = api.load('text8')  # download the corpus and return it opened as an iterable\n",
        "\n",
        "# Train the Word2Vec model\n",
        "model = Word2Vec(corpus, vector_size=100, window=5, min_count=1, workers=4)\n",
        "\n",
        "# Find the most similar words to \"car\"\n",
        "similar_words = model.wv.most_similar(\"car\")\n",
        "print(similar_words)\n"
      ],
      "metadata": {
        "id": "SvuDzEbjqe0h",
        "colab": {
          "base_uri": "https://localhost:8080/"
        },
        "collapsed": true,
        "outputId": "79060807-4225-43d2-e1ca-165a38345d3d"
      },
      "execution_count": 4,
      "outputs": [
        {
          "output_type": "stream",
          "name": "stdout",
          "text": [
            "[('driver', 0.8080785274505615), ('taxi', 0.7241593599319458), ('motorcycle', 0.7128579020500183), ('cars', 0.7012432813644409), ('truck', 0.6915962100028992), ('vehicle', 0.681543231010437), ('passenger', 0.6691645383834839), ('racing', 0.6502305269241333), ('volkswagen', 0.6453384160995483), ('automobile', 0.6432308554649353)]\n"
          ]
        }
      ]
    },
    {
      "cell_type": "markdown",
      "source": [
        "# **Load the pre-trained models:**"
      ],
      "metadata": {
        "id": "5nRJ2AAxmM5u"
      }
    },
    {
      "cell_type": "markdown",
      "source": [
        "**Load the Word2Vec model**"
      ],
      "metadata": {
        "id": "WtBM0miUmh_K"
      }
    },
    {
      "cell_type": "code",
      "source": [
        "# Load the Word2Vec model\n",
        "word2vec_model = api.load(\"word2vec-google-news-300\")\n",
        "print(\"Word2Vec model loaded.\")"
      ],
      "metadata": {
        "id": "B23KItQ1mTKh"
      },
      "execution_count": null,
      "outputs": []
    },
    {
      "cell_type": "markdown",
      "source": [
        "**Load the GloVe model**"
      ],
      "metadata": {
        "id": "CxP7U5EgmXHa"
      }
    },
    {
      "cell_type": "code",
      "source": [
        "glove_model = api.load(\"glove-wiki-gigaword-300\")\n",
        "print(\"GloVe model loaded.\")"
      ],
      "metadata": {
        "id": "Fy7uqwBKmlXT"
      },
      "execution_count": null,
      "outputs": []
    },
    {
      "cell_type": "markdown",
      "source": [
        "**Load the FastText model**"
      ],
      "metadata": {
        "id": "PtH_JlupmpEY"
      }
    },
    {
      "cell_type": "code",
      "source": [
        "fasttext_model = api.load(\"fasttext-wiki-news-subwords-300\")\n",
        "print(\"FastText model loaded.\")"
      ],
      "metadata": {
        "id": "XKeJOm0Emueo"
      },
      "execution_count": null,
      "outputs": []
    },
    {
      "cell_type": "markdown",
      "source": [
        "**Function to print word embeddings from the model**"
      ],
      "metadata": {
        "id": "7UIvmTYbmwO5"
      }
    },
    {
      "cell_type": "code",
      "source": [
        "def print_word_embeddings(model, words):\n",
        "    for word in words:\n",
        "        if word in model:\n",
        "            print(f\"Word: {word}, Vector: {model[word]}\")\n",
        "        else:\n",
        "            print(f\"Word: {word} not in vocabulary.\")\n"
      ],
      "metadata": {
        "id": "PmwMYFl-m0OZ"
      },
      "execution_count": null,
      "outputs": []
    },
    {
      "cell_type": "markdown",
      "source": [
        "\n",
        "**Sample words to get embeddings for**"
      ],
      "metadata": {
        "id": "F_Y89Snpm3vk"
      }
    },
    {
      "cell_type": "code",
      "source": [
        "# Sample words to get embeddings for\n",
        "sample_words = [\"king\", \"queen\", \"computer\", \"science\", \"artificial\", \"intelligence\"]\n",
        "\n",
        "print(\"\\nWord embeddings from Word2Vec model:\")\n",
        "print_word_embeddings(word2vec_model, sample_words)\n",
        "\n",
        "print(\"\\nWord embeddings from GloVe model:\")\n",
        "print_word_embeddings(glove_model, sample_words)\n",
        "\n",
        "print(\"\\nWord embeddings from FastText model:\")\n",
        "print_word_embeddings(fasttext_model, sample_words)"
      ],
      "metadata": {
        "id": "hZAzA2ymnDO8"
      },
      "execution_count": null,
      "outputs": []
    }
  ]
}