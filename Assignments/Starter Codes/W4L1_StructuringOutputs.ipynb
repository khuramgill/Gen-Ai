{
  "cells": [
    {
      "cell_type": "code",
      "execution_count": 9,
      "metadata": {
        "colab": {
          "base_uri": "https://localhost:8080/"
        },
        "collapsed": true,
        "id": "DyfbT00Qv5gL",
        "outputId": "cf3d7547-c32f-4429-eede-61fe4cc2d250"
      },
      "outputs": [
        {
          "name": "stdout",
          "output_type": "stream",
          "text": [
            "Requirement already satisfied: openai in /usr/local/lib/python3.10/dist-packages (1.33.0)\n",
            "Requirement already satisfied: anyio<5,>=3.5.0 in /usr/local/lib/python3.10/dist-packages (from openai) (3.7.1)\n",
            "Requirement already satisfied: distro<2,>=1.7.0 in /usr/lib/python3/dist-packages (from openai) (1.7.0)\n",
            "Requirement already satisfied: httpx<1,>=0.23.0 in /usr/local/lib/python3.10/dist-packages (from openai) (0.27.0)\n",
            "Requirement already satisfied: pydantic<3,>=1.9.0 in /usr/local/lib/python3.10/dist-packages (from openai) (2.7.3)\n",
            "Requirement already satisfied: sniffio in /usr/local/lib/python3.10/dist-packages (from openai) (1.3.1)\n",
            "Requirement already satisfied: tqdm>4 in /usr/local/lib/python3.10/dist-packages (from openai) (4.66.4)\n",
            "Requirement already satisfied: typing-extensions<5,>=4.7 in /usr/local/lib/python3.10/dist-packages (from openai) (4.12.1)\n",
            "Requirement already satisfied: idna>=2.8 in /usr/local/lib/python3.10/dist-packages (from anyio<5,>=3.5.0->openai) (3.7)\n",
            "Requirement already satisfied: exceptiongroup in /usr/local/lib/python3.10/dist-packages (from anyio<5,>=3.5.0->openai) (1.2.1)\n",
            "Requirement already satisfied: certifi in /usr/local/lib/python3.10/dist-packages (from httpx<1,>=0.23.0->openai) (2024.6.2)\n",
            "Requirement already satisfied: httpcore==1.* in /usr/local/lib/python3.10/dist-packages (from httpx<1,>=0.23.0->openai) (1.0.5)\n",
            "Requirement already satisfied: h11<0.15,>=0.13 in /usr/local/lib/python3.10/dist-packages (from httpcore==1.*->httpx<1,>=0.23.0->openai) (0.14.0)\n",
            "Requirement already satisfied: annotated-types>=0.4.0 in /usr/local/lib/python3.10/dist-packages (from pydantic<3,>=1.9.0->openai) (0.7.0)\n",
            "Requirement already satisfied: pydantic-core==2.18.4 in /usr/local/lib/python3.10/dist-packages (from pydantic<3,>=1.9.0->openai) (2.18.4)\n"
          ]
        }
      ],
      "source": [
        "!pip install openai"
      ]
    },
    {
      "cell_type": "code",
      "execution_count": 10,
      "metadata": {
        "id": "V0diG5LCwAv5"
      },
      "outputs": [],
      "source": [
        "\n",
        "import os\n",
        "import openai\n",
        "from openai import OpenAI\n",
        "\n",
        "from google.colab import userdata\n",
        "\n",
        "os.environ['OPENAI_API_KEY'] = userdata.get('api_key')\n",
        "openai.api_key = os.getenv('OPENAI_API_KEY')\n"
      ]
    },
    {
      "cell_type": "code",
      "execution_count": 11,
      "metadata": {
        "id": "sQ2FToeNwAyT"
      },
      "outputs": [],
      "source": [
        "text = \"\"\"Elon Musk has shown again he can influence the digital currency market with just his tweets. After saying that his electric vehicle-making company Tesla will not accept payments in Bitcoin because of environmental concerns, he tweeted that he was working with developers of Dogecoin to improve system transaction efficiency.\n",
        "\n",
        "Following the two distinct statements from him, the world's largest cryptocurrency hit a two-month low, while Dogecoin rallied by about 20 percent. The SpaceX CEO has in recent months often tweeted in support of Dogecoin, but rarely for Bitcoin.  In a recent tweet, Musk put out a statement from Tesla that it was concerned about the rapidly increasing use of fossil fuels for Bitcoin (price in India) mining and transaction, and hence was suspending vehicle purchases using the cryptocurrency.\n",
        "\n",
        "A day later he again tweeted saying, To be clear, I strongly believe in crypto, but it can't drive a massive increase in fossil fuel use, especially coal. It triggered a downward spiral for Bitcoin value but the cryptocurrency has stabilised since.  A number of Twitter users welcomed Musk's statement. One of them said it's time people started realising that Dogecoin is here to stay and another referred to Musk's previous assertion that crypto could become the world's future currency.\"\"\""
      ]
    },
    {
      "cell_type": "code",
      "execution_count": 12,
      "metadata": {
        "id": "sOMHq7PpxaZg"
      },
      "outputs": [],
      "source": [
        "chatgpt_url = \"https://api.openai.com/v1/chat/completions\"\n",
        "chatgpt_headers = {\n",
        "    \"content-type\": \"application/json\",\n",
        "    \"Authorization\":\"Bearer {}\".format('put your api key here')}"
      ]
    },
    {
      "cell_type": "code",
      "execution_count": 13,
      "metadata": {
        "id": "h5rC-Yl3wA09"
      },
      "outputs": [],
      "source": [
        "count = 3\n",
        "\n",
        "prompt = f\"\"\"{text}\n",
        "--------------------------\n",
        "Generate {count} FAQs (frequently asked questions) from the above text. Generate a question and a corresponding answer.\"\"\"\n",
        "\n",
        "\n",
        "messages = [\n",
        "        {\"role\": \"system\", \"content\": \"You are an experienced FAQ creator.\"},\n",
        "        {\"role\": \"user\", \"content\": prompt}\n",
        "\n",
        "    ]\n",
        "\n",
        "chatgpt_payload = {\n",
        "    \"model\": \"gpt-3.5-turbo-16k\",\n",
        "    \"messages\": messages,\n",
        "    \"temperature\": 1.2,\n",
        "    \"max_tokens\": 300,\n",
        "    \"top_p\": 1,\n",
        "    \"stop\": [\"###\"]\n",
        "}"
      ]
    },
    {
      "cell_type": "code",
      "execution_count": 14,
      "metadata": {
        "colab": {
          "base_uri": "https://localhost:8080/"
        },
        "id": "8nPA6GxnwA3c",
        "outputId": "e5e22472-ecac-4d92-9363-272c88346fdf"
      },
      "outputs": [
        {
          "name": "stdout",
          "output_type": "stream",
          "text": [
            "{'id': 'chatcmpl-9ZBxWq789PfmwRs4CNu51fkx8Eybm', 'object': 'chat.completion', 'created': 1718174478, 'model': 'gpt-3.5-turbo-16k-0613', 'choices': [{'index': 0, 'message': {'role': 'assistant', 'content': \"Q1: Why did Elon Musk say that Tesla will not accept payments in Bitcoin?\\nA1: Elon Musk expressed concerns about the environmental impact of Bitcoin mining and transactions, particularly the increasing use of fossil fuels. As a result, he decided to suspend vehicle purchases using the cryptocurrency.\\n\\nQ2: How did Elon Musk's tweets about Dogecoin and Bitcoin affect their values?\\nA2: After Musk's tweet about Tesla's decision, Bitcoin experienced a significant drop to a two-month low. On the other hand, Dogecoin rallied by approximately 20 percent. Musk has been more supportive of Dogecoin in his recent tweets.\\n\\nQ3: What was Musk's stance on cryptocurrency despite the impact on the value of Bitcoin?\\nA3: Elon Musk reiterated that he believes in cryptocurrency but expressed concerns about its potential contribution to fossil fuel usage, especially coal. He emphasized the need for crypto to avoid driving a massive increase in such energy consumption.\"}, 'logprobs': None, 'finish_reason': 'stop'}], 'usage': {'prompt_tokens': 295, 'completion_tokens': 189, 'total_tokens': 484}, 'system_fingerprint': None}\n",
            "Q1: Why did Elon Musk say that Tesla will not accept payments in Bitcoin?\n",
            "A1: Elon Musk expressed concerns about the environmental impact of Bitcoin mining and transactions, particularly the increasing use of fossil fuels. As a result, he decided to suspend vehicle purchases using the cryptocurrency.\n",
            "\n",
            "Q2: How did Elon Musk's tweets about Dogecoin and Bitcoin affect their values?\n",
            "A2: After Musk's tweet about Tesla's decision, Bitcoin experienced a significant drop to a two-month low. On the other hand, Dogecoin rallied by approximately 20 percent. Musk has been more supportive of Dogecoin in his recent tweets.\n",
            "\n",
            "Q3: What was Musk's stance on cryptocurrency despite the impact on the value of Bitcoin?\n",
            "A3: Elon Musk reiterated that he believes in cryptocurrency but expressed concerns about its potential contribution to fossil fuel usage, especially coal. He emphasized the need for crypto to avoid driving a massive increase in such energy consumption.\n"
          ]
        }
      ],
      "source": [
        "import requests\n",
        "response = requests.request(\"POST\", chatgpt_url, json=chatgpt_payload, headers=chatgpt_headers)\n",
        "response = response.json()\n",
        "print (response)\n",
        "print (response['choices'][0]['message']['content'])"
      ]
    },
    {
      "cell_type": "markdown",
      "metadata": {
        "id": "cFeVWL5KyCUd"
      },
      "source": [
        "#Zeroshot JSON output"
      ]
    },
    {
      "cell_type": "code",
      "execution_count": 15,
      "metadata": {
        "id": "j5SAJJRLwA6O"
      },
      "outputs": [],
      "source": [
        "prompt = f\"\"\"{text}\n",
        "--------------------------\n",
        "Generate {count} FAQs (frequently asked questions) from the above text. Generate a question and a corresponding answer\n",
        "Strictly output in JSON format as a list of dictionaries. Each dictionary should have two keys 'q' and 'a'.\"\"\"\n",
        "\n",
        "\n",
        "messages = [\n",
        "        {\"role\": \"system\", \"content\": \"You are an experienced FAQ creator.\"},\n",
        "        {\"role\": \"user\", \"content\": prompt}\n",
        "\n",
        "    ]\n",
        "\n",
        "chatgpt_payload = {\n",
        "    \"model\": \"gpt-3.5-turbo-16k\",\n",
        "    \"messages\": messages,\n",
        "    \"temperature\": 1.2,\n",
        "    \"max_tokens\": 300,\n",
        "    \"top_p\": 1,\n",
        "    \"stop\": [\"###\"]\n",
        "}"
      ]
    },
    {
      "cell_type": "code",
      "execution_count": 16,
      "metadata": {
        "colab": {
          "base_uri": "https://localhost:8080/"
        },
        "id": "V4fuTEb7wA80",
        "outputId": "2de61ad2-d627-48ee-d8fd-174098bd0a14"
      },
      "outputs": [
        {
          "name": "stdout",
          "output_type": "stream",
          "text": [
            "{'id': 'chatcmpl-9ZBxfCh5W60vks0rVNpLRyRJoBU7r', 'object': 'chat.completion', 'created': 1718174487, 'model': 'gpt-3.5-turbo-16k-0613', 'choices': [{'index': 0, 'message': {'role': 'assistant', 'content': '[\\n  {\\n    \"q\": \"Why did Elon Musk announce that Tesla will not accept Bitcoin payments?\",\\n    \"a\": \"Elon Musk stated concerns about the environmental impact of Bitcoin mining and transactions, particularly the increasing use of fossil fuels.\"\\n  },\\n  {\\n    \"q\": \"What was the impact of Elon Musk\\'s tweets on the cryptocurrency market?\",\\n    \"a\": \"Following Musk\\'s tweet about Tesla\\'s decision, Bitcoin\\'s value hit a two-month low, while Dogecoin rallied by about 20 percent.\"\\n  },\\n  {\\n    \"q\": \"Why did Elon Musk express support for Dogecoin more often than Bitcoin?\",\\n    \"a\": \"Elon Musk has frequently tweeted in favor of Dogecoin, indicating his preference for its development and the potential for improving transaction efficiency. However, he has rarely expressed similar support for Bitcoin.\" \\n  }\\n]'}, 'logprobs': None, 'finish_reason': 'stop'}], 'usage': {'prompt_tokens': 320, 'completion_tokens': 177, 'total_tokens': 497}, 'system_fingerprint': None}\n",
            "[\n",
            "  {\n",
            "    \"q\": \"Why did Elon Musk announce that Tesla will not accept Bitcoin payments?\",\n",
            "    \"a\": \"Elon Musk stated concerns about the environmental impact of Bitcoin mining and transactions, particularly the increasing use of fossil fuels.\"\n",
            "  },\n",
            "  {\n",
            "    \"q\": \"What was the impact of Elon Musk's tweets on the cryptocurrency market?\",\n",
            "    \"a\": \"Following Musk's tweet about Tesla's decision, Bitcoin's value hit a two-month low, while Dogecoin rallied by about 20 percent.\"\n",
            "  },\n",
            "  {\n",
            "    \"q\": \"Why did Elon Musk express support for Dogecoin more often than Bitcoin?\",\n",
            "    \"a\": \"Elon Musk has frequently tweeted in favor of Dogecoin, indicating his preference for its development and the potential for improving transaction efficiency. However, he has rarely expressed similar support for Bitcoin.\" \n",
            "  }\n",
            "]\n"
          ]
        }
      ],
      "source": [
        "import requests\n",
        "response = requests.request(\"POST\", chatgpt_url, json=chatgpt_payload, headers=chatgpt_headers)\n",
        "response = response.json()\n",
        "print (response)\n",
        "print (response['choices'][0]['message']['content'])"
      ]
    },
    {
      "cell_type": "code",
      "execution_count": null,
      "metadata": {
        "id": "3FC_0y-xAAey"
      },
      "outputs": [],
      "source": []
    },
    {
      "cell_type": "markdown",
      "metadata": {
        "id": "cnTW-mG2_bG7"
      },
      "source": [
        "#OpenAI JSON Mode"
      ]
    },
    {
      "cell_type": "code",
      "execution_count": 18,
      "metadata": {
        "colab": {
          "base_uri": "https://localhost:8080/"
        },
        "id": "1PEAZkXtwA_Z",
        "outputId": "92cd5765-c1da-47eb-f707-456d0bad70ba"
      },
      "outputs": [
        {
          "name": "stdout",
          "output_type": "stream",
          "text": [
            "{\n",
            "    \"error\": \"I'm sorry, but I am unable to provide real-time information. You may want to check a reliable source for the most up-to-date information on the 2021 World Series winner.\"\n",
            "}\n"
          ]
        }
      ],
      "source": [
        "from openai import OpenAI\n",
        "client = OpenAI()\n",
        "\n",
        "response = client.chat.completions.create(\n",
        "  model=\"gpt-3.5-turbo-0125\",\n",
        "  response_format={ \"type\": \"json_object\" },\n",
        "  messages=[\n",
        "    {\"role\": \"system\", \"content\": \"You are a helpful assistant designed to output JSON.\"},\n",
        "    {\"role\": \"user\", \"content\": \"Who won the world series in 2021?\"}\n",
        "  ]\n",
        ")\n",
        "print(response.choices[0].message.content)"
      ]
    },
    {
      "cell_type": "markdown",
      "metadata": {
        "id": "F-6UcKt-DY1q"
      },
      "source": [
        "#Function Calling"
      ]
    },
    {
      "cell_type": "code",
      "execution_count": 8,
      "metadata": {
        "id": "stCazLbdD_ib"
      },
      "outputs": [],
      "source": [
        "# !pip install openai >> null\n",
        "# from pprint import pprint\n",
        "import json\n",
        "import openai"
      ]
    },
    {
      "cell_type": "code",
      "execution_count": 15,
      "metadata": {
        "colab": {
          "base_uri": "https://localhost:8080/"
        },
        "id": "qtzLtrUbDu2W",
        "outputId": "b667fe85-1b1e-4d07-82e4-b4f06366f319"
      },
      "outputs": [
        {
          "data": {
            "text/plain": [
              "{'title': 'The T-Rex and the Brachiosaurus',\n",
              " 'story_text': 'Once upon a time, there were dinosaurs that roamed the Earth. These magnificent creatures came in all shapes and sizes, from the mighty Tyrannosaurus Rex to the gentle Brachiosaurus. They lived in lush forests and vast open plains, ruling the land for millions of years. The dinosaurs were a diverse group, with some being herbivores and others being carnivores. They had sharp teeth, powerful jaws, and strong claws, which they used to hunt and defend themselves. But one day, a great catastrophe struck the Earth, wiping out the dinosaurs and most other life forms. Scientists believe that a massive asteroid collided with the planet, causing widespread destruction and a climate change that the dinosaurs could not survive. Today, we can only imagine what it was like to live in a world filled with dinosaurs, but their fossil remains continue to captivate our imagination and remind us of their once mighty presence on Earth.\"',\n",
              " 'top_5_words': [{'word': 'magnificent',\n",
              "   'definition': 'very good, beautiful, or deserving to be admired'},\n",
              "  {'word': 'Tyrannosaurus Rex',\n",
              "   'definition': 'the largest species (= type) of tyrannosaurus (= a very large, meat-eating dinosaur with large, powerful back legs, small front legs and a long tail)'},\n",
              "  {'word': 'Brachiosaurus',\n",
              "   'definition': 'a very large plant-eating dinosaur with four legs, a very long neck and tail, and a small head. Its front legs were longer than its back legs.'},\n",
              "  {'word': 'destruction',\n",
              "   'definition': ' the act of destroying something, or the fact of being destroyed'},\n",
              "  {'word': 'dinosaurs',\n",
              "   'definition': 'a type of reptile that became extinct about 65,000,000 years ago. There were many different types of dinosaur, some of which were extremely large'}],\n",
              " 'word_count': 153}"
            ]
          },
          "execution_count": 15,
          "metadata": {},
          "output_type": "execute_result"
        }
      ],
      "source": [
        "{\n",
        "  \"title\": \"The T-Rex and the Brachiosaurus\",\n",
        "  \"story_text\": \"Once upon a time, there were dinosaurs that roamed the Earth. These magnificent creatures came in all shapes and sizes, from the mighty Tyrannosaurus Rex to the gentle Brachiosaurus. They lived in lush forests and vast open plains, ruling the land for millions of years. The dinosaurs were a diverse group, with some being herbivores and others being carnivores. They had sharp teeth, powerful jaws, and strong claws, which they used to hunt and defend themselves. But one day, a great catastrophe struck the Earth, wiping out the dinosaurs and most other life forms. Scientists believe that a massive asteroid collided with the planet, causing widespread destruction and a climate change that the dinosaurs could not survive. Today, we can only imagine what it was like to live in a world filled with dinosaurs, but their fossil remains continue to captivate our imagination and remind us of their once mighty presence on Earth.\\\"\",\n",
        "  \"top_5_words\": [\n",
        "      {\"word\": \"magnificent\", \"definition\":\"very good, beautiful, or deserving to be admired\"},\n",
        "      {\"word\": \"Tyrannosaurus Rex\", \"definition\":\"the largest species (= type) of tyrannosaurus (= a very large, meat-eating dinosaur with large, powerful back legs, small front legs and a long tail)\"},\n",
        "      {\"word\": \"Brachiosaurus\", \"definition\":\"a very large plant-eating dinosaur with four legs, a very long neck and tail, and a small head. Its front legs were longer than its back legs.\"},\n",
        "      {\"word\": \"destruction\", \"definition\":\" the act of destroying something, or the fact of being destroyed\"},\n",
        "      {\"word\": \"dinosaurs\", \"definition\":\"a type of reptile that became extinct about 65,000,000 years ago. There were many different types of dinosaur, some of which were extremely large\"}\n",
        "  ],\n",
        "  \"word_count\": 153\n",
        "}"
      ]
    },
    {
      "cell_type": "code",
      "execution_count": 16,
      "metadata": {
        "id": "awupMa8eDu5M"
      },
      "outputs": [],
      "source": [
        "theme1 = \"dinosaurs\"\n",
        "theme2 = \"cat\""
      ]
    },
    {
      "cell_type": "code",
      "execution_count": null,
      "metadata": {
        "id": "TxOncSMtDu-W"
      },
      "outputs": [],
      "source": [
        "function = {\n",
        "    \"name\": \"story_meta_data\",\n",
        "    \"description\": \"A function that takes in a list of arguments related to a children's story and does something with it\",\n",
        "    \"parameters\": {\n",
        "        \"type\": \"object\",\n",
        "        \"properties\": {\n",
        "            \"title\":{\n",
        "                \"type\": \"string\",\n",
        "                \"description\":\"The title of the story\"\n",
        "            },\n",
        "            \"story_text\":{\n",
        "                \"type\": \"string\",\n",
        "                \"description\":\"The text of the story\"\n",
        "            },\n",
        "            \"top_5_words\": {\n",
        "                \"type\": \"array\",\n",
        "                \"description\": \"A list of the 5 hardest words in the story along with its definition.\",\n",
        "                \"items\":{\n",
        "                    \"word\": {\"type\":\"string\", \"description\": \"A difficult word in the story\"},\n",
        "                    \"definition\":{\"type\":\"string\", \"description\":\"The dictionary definition for the word\",\n",
        "                    \"sample_use\":{\"type\":\"array\", \"description\": \"a list of two sample sentences showing how this word can be used.\"}\n",
        "                    }\n",
        "                },\n",
        "            \"word_count\":{\n",
        "                \"type\": \"int\",\n",
        "                \"description\": \"The total number of words in this story\",\n",
        "            }\n",
        "        }}},\n",
        "        \"required\": [\"title\", \"story_text\", \"top_5_words\", \"word_count\"],\n",
        "    }\n"
      ]
    },
    {
      "cell_type": "code",
      "execution_count": 22,
      "metadata": {
        "colab": {
          "base_uri": "https://localhost:8080/"
        },
        "id": "EHdAobRawBCS",
        "outputId": "3067e14e-caaf-49e5-ad1f-99264984ea8d"
      },
      "outputs": [
        {
          "name": "stdout",
          "output_type": "stream",
          "text": [
            "{\n",
            "  \"title\": \"The Adventures of Kitty\",\n",
            "  \"story_text\": \"Once upon a time, in a little town, there lived a cat named Kitty. Kitty was a curious and adventurous cat who loved exploring new places. One sunny morning, Kitty decided to venture into the nearby forest. As she tiptoed through the trees, she came across a family of squirrels playing in the leaves. Kitty watched them with amusement, her tail twitching in excitement.\\n\\nFurther ahead, Kitty found a sparkling river. She couldn't resist the temptation and jumped right in. The cool water refreshed her and made her feel alive. After her little swim, Kitty continued her journey.\\n\\nSuddenly, she heard a faint meow. She followed the sound and discovered a lost kitten stuck in a tree. Without hesitation, Kitty climbed up and rescued the frightened kitten. They became instant friends.\\n\\nTogether, Kitty and the kitten explored the forest, encountering friendly birds and mischievous mice. They had many exciting adventures and never got tired of each other's company.\\n\\nAnd so, the adventures of Kitty continued, bringing joy and happiness to all who crossed their path.\"\n",
            "}\n"
          ]
        }
      ],
      "source": [
        "\n",
        "messages = [\n",
        "    {\"role\": \"system\", \"content\": \"You are a story writer, please write a 200 word children's story about the theme specified and then extract the relevant data to use as arguments to pass into the given function provided\" },\n",
        "    {'role': 'user', 'content': \"Please produce a story about the following theme:\\\"\\\"\\\"\"+theme2+\"\\\"\\\"\\\"\"}]\n",
        "\n",
        "\n",
        "response = client.chat.completions.create(\n",
        "    model=\"gpt-3.5-turbo-0613\",\n",
        "    messages=messages,\n",
        "    functions=[function],\n",
        "    function_call={\"name\": \"story_meta_data\"}, # this forces calling `function`\n",
        ")\n",
        "\n",
        "\n",
        "content = response.choices[0].message.function_call.arguments\n",
        "content_json = json.loads(content)\n",
        "print(content)\n"
      ]
    },
    {
      "cell_type": "code",
      "execution_count": 24,
      "metadata": {
        "id": "HWDzYPQVwBEv"
      },
      "outputs": [],
      "source": []
    },
    {
      "cell_type": "code",
      "execution_count": null,
      "metadata": {
        "id": "Vp4i-kJrdkO_"
      },
      "outputs": [],
      "source": []
    },
    {
      "cell_type": "code",
      "execution_count": null,
      "metadata": {
        "id": "0BWKuy-GdkRm"
      },
      "outputs": [],
      "source": []
    },
    {
      "cell_type": "code",
      "execution_count": null,
      "metadata": {
        "id": "2hJGyz3HdkVM"
      },
      "outputs": [],
      "source": []
    },
    {
      "cell_type": "markdown",
      "metadata": {
        "id": "Mlnl7s2DyUMs"
      },
      "source": [
        "#LMQL"
      ]
    },
    {
      "cell_type": "code",
      "execution_count": null,
      "metadata": {
        "colab": {
          "base_uri": "https://localhost:8080/"
        },
        "id": "0-lj8jX9wBHb",
        "outputId": "d7c92cc6-4518-400c-aaef-9cf1a2621357"
      },
      "outputs": [
        {
          "name": "stdout",
          "output_type": "stream",
          "text": [
            "\u001b[2K     \u001b[90m━━━━━━━━━━━━━━━━━━━━━━━━━━━━━━━━━━━━━━━━\u001b[0m \u001b[32m856.9/856.9 kB\u001b[0m \u001b[31m7.0 MB/s\u001b[0m eta \u001b[36m0:00:00\u001b[0m\n",
            "\u001b[2K     \u001b[90m━━━━━━━━━━━━━━━━━━━━━━━━━━━━━━━━━━━━━━━━\u001b[0m \u001b[32m1.1/1.1 MB\u001b[0m \u001b[31m12.4 MB/s\u001b[0m eta \u001b[36m0:00:00\u001b[0m\n",
            "\u001b[?25h"
          ]
        }
      ],
      "source": [
        "!pip install -q lmql"
      ]
    },
    {
      "cell_type": "code",
      "execution_count": null,
      "metadata": {
        "colab": {
          "base_uri": "https://localhost:8080/"
        },
        "id": "fb2kNHYawBKm",
        "outputId": "143ddbf8-485f-45ca-cd2b-0eb81a02a502"
      },
      "outputs": [
        {
          "data": {
            "text/plain": [
              "lmql.LLM(openai/gpt-3.5-turbo, )"
            ]
          },
          "execution_count": 16,
          "metadata": {},
          "output_type": "execute_result"
        }
      ],
      "source": [
        "import lmql\n",
        "lmql.model(\"openai/gpt-3.5-turbo\")"
      ]
    },
    {
      "cell_type": "code",
      "execution_count": null,
      "metadata": {
        "colab": {
          "base_uri": "https://localhost:8080/"
        },
        "id": "WgjP5qPcwBPm",
        "outputId": "49e5a1de-199c-40f5-d8c3-7c0203e91971"
      },
      "outputs": [
        {
          "name": "stdout",
          "output_type": "stream",
          "text": [
            "{\n",
            "    \"name\": \"chain_of_thought\",\n",
            "    \"type\": \"lmql.InferenceCertificate\",\n",
            "    \"lmql.version\": \"0.7.3 (build on Sat Oct 14 16:54:52 UTC 2023, commit 9a59739d980a88e64687689b7cecee6cbaf79b78)\",\n",
            "    \"time\": \"2024-06-11 19:34:14 +0000\",\n",
            "    \"events\": [\n",
            "        {\n",
            "            \"name\": \"openai.Completion\",\n",
            "            \"data\": {\n",
            "                \"endpoint\": \"https://api.openai.com/v1/completions\",\n",
            "                \"headers\": {\n",
            "                    \"Authorization\": \"<removed>\",\n",
            "                    \"Content-Type\": \"application/json\"\n",
            "                },\n",
            "                \"tokenizer\": \"<LMQLTokenizer 'gpt-3.5-turbo-instruct' using tiktoken <Encoding 'cl100k_base'>>\",\n",
            "                \"kwargs\": {\n",
            "                    \"model\": \"gpt-3.5-turbo-instruct\",\n",
            "                    \"prompt\": [\n",
            "                        \"Q: Today is the 12th of June, what day was it 1 week ago?\\nA: Let's think step by step.\\n\"\n",
            "                    ],\n",
            "                    \"max_tokens\": 1024,\n",
            "                    \"temperature\": 0,\n",
            "                    \"logprobs\": 1,\n",
            "                    \"user\": \"lmql\",\n",
            "                    \"stream\": true,\n",
            "                    \"echo\": false\n",
            "                },\n",
            "                \"result[0]\": \"1. Today is the 12th of June.\\n2. One week ago means 7 days ago.\\n3. So, 7 days ago from the 12th of June would be the 5th of June.\\n4. Therefore, 1 week ago was the 5th of June.\"\n",
            "            }\n",
            "        },\n",
            "        {\n",
            "            \"name\": \"openai.Completion\",\n",
            "            \"data\": {\n",
            "                \"endpoint\": \"https://api.openai.com/v1/completions\",\n",
            "                \"headers\": {\n",
            "                    \"Authorization\": \"<removed>\",\n",
            "                    \"Content-Type\": \"application/json\"\n",
            "                },\n",
            "                \"tokenizer\": \"<LMQLTokenizer 'gpt-3.5-turbo-instruct' using tiktoken <Encoding 'cl100k_base'>>\",\n",
            "                \"kwargs\": {\n",
            "                    \"model\": \"gpt-3.5-turbo-instruct\",\n",
            "                    \"prompt\": [\n",
            "                        \"Q: Today is the 12th of June, what day was it 1 week ago?\\nA: Let's think step by step.\\n1. Today is the 12th of June.\\n2. One week ago means 7 days ago.\\n3. So, 7 days ago from the 12th of June would be the 5th of June.\\n4. Therefore, 1 week ago was the 5th of June.Thus, the answer is:\"\n",
            "                    ],\n",
            "                    \"max_tokens\": 1024,\n",
            "                    \"temperature\": 0,\n",
            "                    \"logprobs\": 1,\n",
            "                    \"user\": \"lmql\",\n",
            "                    \"stream\": true,\n",
            "                    \"echo\": false\n",
            "                },\n",
            "                \"result[0]\": \" 5th of June.\"\n",
            "            }\n",
            "        },\n",
            "        {\n",
            "            \"name\": \"lmql.LMQLResult\",\n",
            "            \"data\": [\n",
            "                \"5th of June.\"\n",
            "            ]\n",
            "        }\n",
            "    ],\n",
            "    \"metrics\": {\n",
            "        \"openai\": {\n",
            "            \"requests\": 2,\n",
            "            \"batch_size\": 2,\n",
            "            \"tokens\": 194\n",
            "        }\n",
            "    }\n",
            "}\n"
          ]
        }
      ],
      "source": [
        "@lmql.query(certificate=True)\n",
        "async def chain_of_thought(question):\n",
        "    '''lmql\n",
        "    # Q&A prompt template\n",
        "    \"Q: {question}\\n\"\n",
        "    \"A: Let's think step by step.\\n\"\n",
        "    \"[REASONING]\"\n",
        "    \"Thus, the answer is:[ANSWER].\"\n",
        "    return ANSWER.strip()\n",
        "    '''\n",
        "\n",
        "result = await chain_of_thought('Today is the 12th of June, what day was it 1 week ago?')"
      ]
    },
    {
      "cell_type": "code",
      "execution_count": null,
      "metadata": {
        "colab": {
          "base_uri": "https://localhost:8080/"
        },
        "id": "wvva5BFUwBV2",
        "outputId": "0937496d-0949-4007-8de4-5ff877d4dea8"
      },
      "outputs": [
        {
          "name": "stdout",
          "output_type": "stream",
          "text": [
            "5th of June.\n"
          ]
        }
      ],
      "source": [
        "print(result)"
      ]
    },
    {
      "cell_type": "code",
      "execution_count": null,
      "metadata": {
        "id": "t9w0KYRWwBYo"
      },
      "outputs": [],
      "source": []
    },
    {
      "cell_type": "code",
      "execution_count": null,
      "metadata": {
        "id": "5dYjhP0uyk0z"
      },
      "outputs": [],
      "source": []
    },
    {
      "cell_type": "code",
      "execution_count": null,
      "metadata": {
        "id": "f3OyEYX_yk3Z"
      },
      "outputs": [],
      "source": []
    },
    {
      "cell_type": "code",
      "execution_count": null,
      "metadata": {
        "id": "RfQqL2CPyk66"
      },
      "outputs": [],
      "source": []
    },
    {
      "cell_type": "code",
      "execution_count": null,
      "metadata": {
        "id": "BsIZe7c7wBbU"
      },
      "outputs": [],
      "source": []
    },
    {
      "cell_type": "code",
      "execution_count": null,
      "metadata": {
        "id": "FUx4-7SwwBeG"
      },
      "outputs": [],
      "source": []
    }
  ],
  "metadata": {
    "colab": {
      "provenance": []
    },
    "kernelspec": {
      "display_name": "Python 3",
      "name": "python3"
    },
    "language_info": {
      "name": "python"
    }
  },
  "nbformat": 4,
  "nbformat_minor": 0
}
