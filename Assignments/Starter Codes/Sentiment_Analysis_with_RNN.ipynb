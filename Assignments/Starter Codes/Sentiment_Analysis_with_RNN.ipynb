{
  "nbformat": 4,
  "nbformat_minor": 0,
  "metadata": {
    "colab": {
      "provenance": []
    },
    "kernelspec": {
      "name": "python3",
      "display_name": "Python 3"
    },
    "language_info": {
      "name": "python"
    },
    "accelerator": "GPU",
    "gpuClass": "standard"
  },
  "cells": [
    {
      "cell_type": "code",
      "execution_count": 1,
      "metadata": {
        "id": "vR6C9i-fyLvG"
      },
      "outputs": [],
      "source": [
        "import numpy as np\n",
        "\n",
        "docs = ['Stunning film.',\n",
        "        'Great story, acting.',\n",
        "        'Predictable plot, good.',\n",
        "        'Emotional and touching.',\n",
        "        'Nice direction, script.',\n",
        "        'Soundtrack fits well.',\n",
        "        'Outstanding cast.',\n",
        "        'Slow pacing, visuals.',\n",
        "        'Memorable masterpiece.',\n",
        "        'Challenges norms.']"
      ]
    },
    {
      "cell_type": "code",
      "source": [
        "from keras.preprocessing.text import Tokenizer\n",
        "tokenizer = Tokenizer()"
      ],
      "metadata": {
        "id": "xRzvJNh1mRQW"
      },
      "execution_count": 2,
      "outputs": []
    },
    {
      "cell_type": "code",
      "source": [
        "tokenizer.fit_on_texts(docs)"
      ],
      "metadata": {
        "id": "2IhkPg6YmRYT"
      },
      "execution_count": 3,
      "outputs": []
    },
    {
      "cell_type": "code",
      "source": [
        "len(tokenizer.word_index)"
      ],
      "metadata": {
        "colab": {
          "base_uri": "https://localhost:8080/"
        },
        "id": "dP5g_Tmin4AG",
        "outputId": "8b14221f-231f-4dc4-af7d-99f87bd3764e"
      },
      "execution_count": 4,
      "outputs": [
        {
          "output_type": "execute_result",
          "data": {
            "text/plain": [
              "26"
            ]
          },
          "metadata": {},
          "execution_count": 4
        }
      ]
    },
    {
      "cell_type": "code",
      "source": [
        "tokenizer.word_index"
      ],
      "metadata": {
        "colab": {
          "base_uri": "https://localhost:8080/"
        },
        "id": "HPQlFVZGzRoD",
        "outputId": "e99792eb-b335-4bcc-9725-87aa0defa25b"
      },
      "execution_count": 5,
      "outputs": [
        {
          "output_type": "execute_result",
          "data": {
            "text/plain": [
              "{'stunning': 1,\n",
              " 'film': 2,\n",
              " 'great': 3,\n",
              " 'story': 4,\n",
              " 'acting': 5,\n",
              " 'predictable': 6,\n",
              " 'plot': 7,\n",
              " 'good': 8,\n",
              " 'emotional': 9,\n",
              " 'and': 10,\n",
              " 'touching': 11,\n",
              " 'nice': 12,\n",
              " 'direction': 13,\n",
              " 'script': 14,\n",
              " 'soundtrack': 15,\n",
              " 'fits': 16,\n",
              " 'well': 17,\n",
              " 'outstanding': 18,\n",
              " 'cast': 19,\n",
              " 'slow': 20,\n",
              " 'pacing': 21,\n",
              " 'visuals': 22,\n",
              " 'memorable': 23,\n",
              " 'masterpiece': 24,\n",
              " 'challenges': 25,\n",
              " 'norms': 26}"
            ]
          },
          "metadata": {},
          "execution_count": 5
        }
      ]
    },
    {
      "cell_type": "code",
      "source": [
        "tokenizer.word_counts"
      ],
      "metadata": {
        "colab": {
          "base_uri": "https://localhost:8080/"
        },
        "id": "OPdXlk9jy0V_",
        "outputId": "fec779bf-653e-4b6c-9582-a1df03a2a70d"
      },
      "execution_count": 6,
      "outputs": [
        {
          "output_type": "execute_result",
          "data": {
            "text/plain": [
              "OrderedDict([('stunning', 1),\n",
              "             ('film', 1),\n",
              "             ('great', 1),\n",
              "             ('story', 1),\n",
              "             ('acting', 1),\n",
              "             ('predictable', 1),\n",
              "             ('plot', 1),\n",
              "             ('good', 1),\n",
              "             ('emotional', 1),\n",
              "             ('and', 1),\n",
              "             ('touching', 1),\n",
              "             ('nice', 1),\n",
              "             ('direction', 1),\n",
              "             ('script', 1),\n",
              "             ('soundtrack', 1),\n",
              "             ('fits', 1),\n",
              "             ('well', 1),\n",
              "             ('outstanding', 1),\n",
              "             ('cast', 1),\n",
              "             ('slow', 1),\n",
              "             ('pacing', 1),\n",
              "             ('visuals', 1),\n",
              "             ('memorable', 1),\n",
              "             ('masterpiece', 1),\n",
              "             ('challenges', 1),\n",
              "             ('norms', 1)])"
            ]
          },
          "metadata": {},
          "execution_count": 6
        }
      ]
    },
    {
      "cell_type": "code",
      "source": [
        "sequences = tokenizer.texts_to_sequences(docs)\n",
        "sequences"
      ],
      "metadata": {
        "colab": {
          "base_uri": "https://localhost:8080/"
        },
        "id": "lOv8NrFFmRcE",
        "outputId": "f06b11c2-4185-4b8e-90bb-05cba5f153df"
      },
      "execution_count": 7,
      "outputs": [
        {
          "output_type": "execute_result",
          "data": {
            "text/plain": [
              "[[1, 2],\n",
              " [3, 4, 5],\n",
              " [6, 7, 8],\n",
              " [9, 10, 11],\n",
              " [12, 13, 14],\n",
              " [15, 16, 17],\n",
              " [18, 19],\n",
              " [20, 21, 22],\n",
              " [23, 24],\n",
              " [25, 26]]"
            ]
          },
          "metadata": {},
          "execution_count": 7
        }
      ]
    },
    {
      "cell_type": "code",
      "source": [
        "from keras.utils import pad_sequences\n",
        "from keras.preprocessing.text import Tokenizer\n",
        "from keras.utils import pad_sequences\n",
        "from keras.models import Sequential\n",
        "from keras.layers import Embedding\n",
        "# Pad the sequences\n",
        "max_length = max(len(seq) for seq in sequences)\n",
        "sequences = pad_sequences(sequences,padding= 'post')\n",
        "sequences"
      ],
      "metadata": {
        "colab": {
          "base_uri": "https://localhost:8080/"
        },
        "id": "KG1RqcLnmRkA",
        "outputId": "2a2393bb-6496-484a-b80a-a42bd10e978f"
      },
      "execution_count": 12,
      "outputs": [
        {
          "output_type": "execute_result",
          "data": {
            "text/plain": [
              "array([[ 1,  2,  0],\n",
              "       [ 3,  4,  5],\n",
              "       [ 6,  7,  8],\n",
              "       [ 9, 10, 11],\n",
              "       [12, 13, 14],\n",
              "       [15, 16, 17],\n",
              "       [18, 19,  0],\n",
              "       [20, 21, 22],\n",
              "       [23, 24,  0],\n",
              "       [25, 26,  0]], dtype=int32)"
            ]
          },
          "metadata": {},
          "execution_count": 12
        }
      ]
    },
    {
      "cell_type": "code",
      "source": [
        "model = Sequential()\n",
        "model.add(Embedding(input_dim=len(tokenizer.word_index), output_dim=2, input_length=max_length))   # max_length = 3, 26 X 2\n",
        "\n",
        "# Print the model summary\n",
        "model.summary()"
      ],
      "metadata": {
        "colab": {
          "base_uri": "https://localhost:8080/"
        },
        "id": "ETWEOn4wmRzd",
        "outputId": "8117f7df-e6b6-415f-ea38-376faab40cfe"
      },
      "execution_count": 13,
      "outputs": [
        {
          "output_type": "stream",
          "name": "stdout",
          "text": [
            "Model: \"sequential\"\n",
            "_________________________________________________________________\n",
            " Layer (type)                Output Shape              Param #   \n",
            "=================================================================\n",
            " embedding (Embedding)       (None, 3, 2)              52        \n",
            "                                                                 \n",
            "=================================================================\n",
            "Total params: 52 (208.00 Byte)\n",
            "Trainable params: 52 (208.00 Byte)\n",
            "Non-trainable params: 0 (0.00 Byte)\n",
            "_________________________________________________________________\n"
          ]
        }
      ]
    },
    {
      "cell_type": "code",
      "source": [
        "# Compile the model\n",
        "model.compile(optimizer='adam', loss='binary_crossentropy', metrics=['accuracy'])\n"
      ],
      "metadata": {
        "id": "R68ghDfNmSAC"
      },
      "execution_count": 14,
      "outputs": []
    },
    {
      "cell_type": "code",
      "source": [
        "pred = model.predict(sequences)\n",
        "print(pred)"
      ],
      "metadata": {
        "colab": {
          "base_uri": "https://localhost:8080/"
        },
        "id": "ooYWO2NwoKoQ",
        "outputId": "f90e563f-faaa-4b8d-db9a-60634458dbde"
      },
      "execution_count": 15,
      "outputs": [
        {
          "output_type": "stream",
          "name": "stdout",
          "text": [
            "1/1 [==============================] - 0s 187ms/step\n",
            "[[[ 0.04131741  0.04128078]\n",
            "  [-0.03770704 -0.03221248]\n",
            "  [ 0.04841686  0.03058975]]\n",
            "\n",
            " [[ 0.00796358 -0.03325834]\n",
            "  [-0.0270611  -0.04346522]\n",
            "  [-0.04452697  0.02701047]]\n",
            "\n",
            " [[-0.0470116   0.04780244]\n",
            "  [-0.01436891 -0.01018611]\n",
            "  [-0.01607408  0.03352863]]\n",
            "\n",
            " [[ 0.04879181  0.04234275]\n",
            "  [ 0.00588921  0.02602867]\n",
            "  [ 0.03151019 -0.03111534]]\n",
            "\n",
            " [[-0.03905357  0.01963573]\n",
            "  [-0.00091736 -0.03813704]\n",
            "  [-0.04206625  0.03889582]]\n",
            "\n",
            " [[ 0.03940114  0.02034206]\n",
            "  [-0.00399048  0.0419041 ]\n",
            "  [-0.04233841  0.03150317]]\n",
            "\n",
            " [[ 0.03806144  0.04392285]\n",
            "  [-0.02833618  0.0034112 ]\n",
            "  [ 0.04841686  0.03058975]]\n",
            "\n",
            " [[ 0.0354488  -0.04583224]\n",
            "  [ 0.00653279 -0.00461817]\n",
            "  [-0.04331116  0.00243487]]\n",
            "\n",
            " [[-0.02455602 -0.02951725]\n",
            "  [ 0.01435337 -0.00323582]\n",
            "  [ 0.04841686  0.03058975]]\n",
            "\n",
            " [[-0.02269374  0.01391434]\n",
            "  [ 0.          0.        ]\n",
            "  [ 0.04841686  0.03058975]]]\n"
          ]
        }
      ]
    },
    {
      "cell_type": "code",
      "source": [
        "from keras.datasets import imdb\n",
        "from keras.preprocessing.text import Tokenizer\n",
        "from keras.utils import pad_sequences\n",
        "from keras import Sequential\n",
        "from keras.layers import Dense,SimpleRNN,Embedding,Flatten"
      ],
      "metadata": {
        "id": "yrM0IXVamPLn"
      },
      "execution_count": 16,
      "outputs": []
    },
    {
      "cell_type": "code",
      "source": [
        "(X_train,y_train),(X_test,y_test) = imdb.load_data()"
      ],
      "metadata": {
        "id": "4aH4HVjcyq1f",
        "colab": {
          "base_uri": "https://localhost:8080/"
        },
        "outputId": "9f3307b2-edb8-45f5-8229-605291e7937a"
      },
      "execution_count": 17,
      "outputs": [
        {
          "output_type": "stream",
          "name": "stdout",
          "text": [
            "Downloading data from https://storage.googleapis.com/tensorflow/tf-keras-datasets/imdb.npz\n",
            "17464789/17464789 [==============================] - 2s 0us/step\n"
          ]
        }
      ]
    },
    {
      "cell_type": "code",
      "source": [
        "X_train = pad_sequences(X_train,padding='post',maxlen=50)\n",
        "X_test = pad_sequences(X_test,padding='post',maxlen=50)"
      ],
      "metadata": {
        "id": "cu2UOZGUzAEF"
      },
      "execution_count": 18,
      "outputs": []
    },
    {
      "cell_type": "code",
      "source": [
        "X_train.shape"
      ],
      "metadata": {
        "colab": {
          "base_uri": "https://localhost:8080/"
        },
        "id": "aO412Krkz7EO",
        "outputId": "09b53417-b399-4706-80b1-2b09c6c85b50"
      },
      "execution_count": 19,
      "outputs": [
        {
          "output_type": "execute_result",
          "data": {
            "text/plain": [
              "(25000, 50)"
            ]
          },
          "metadata": {},
          "execution_count": 19
        }
      ]
    },
    {
      "cell_type": "code",
      "source": [
        "model = Sequential()\n",
        "model.add(Embedding(input_dim=10000, output_dim=2, input_length=50))\n",
        "model.add(SimpleRNN(32,return_sequences=False))\n",
        "model.add(Dense(1, activation='sigmoid'))\n",
        "\n",
        "model.summary()"
      ],
      "metadata": {
        "colab": {
          "base_uri": "https://localhost:8080/"
        },
        "id": "WWXhm8vP_DO-",
        "outputId": "a96f32b7-d73d-4c6e-ff4f-814a823a52ae"
      },
      "execution_count": 20,
      "outputs": [
        {
          "output_type": "stream",
          "name": "stdout",
          "text": [
            "Model: \"sequential_1\"\n",
            "_________________________________________________________________\n",
            " Layer (type)                Output Shape              Param #   \n",
            "=================================================================\n",
            " embedding_1 (Embedding)     (None, 50, 2)             20000     \n",
            "                                                                 \n",
            " simple_rnn (SimpleRNN)      (None, 32)                1120      \n",
            "                                                                 \n",
            " dense (Dense)               (None, 1)                 33        \n",
            "                                                                 \n",
            "=================================================================\n",
            "Total params: 21153 (82.63 KB)\n",
            "Trainable params: 21153 (82.63 KB)\n",
            "Non-trainable params: 0 (0.00 Byte)\n",
            "_________________________________________________________________\n"
          ]
        }
      ]
    },
    {
      "cell_type": "code",
      "source": [
        "model.compile(optimizer='adam', loss='binary_crossentropy', metrics=['acc'])\n",
        "history = model.fit(X_train, y_train,epochs=5,validation_data=(X_test,y_test))"
      ],
      "metadata": {
        "colab": {
          "base_uri": "https://localhost:8080/"
        },
        "id": "AGCAZ7Rm_fqH",
        "outputId": "dfda4749-3a0a-486a-e09a-7e03ff627c72"
      },
      "execution_count": 21,
      "outputs": [
        {
          "output_type": "stream",
          "name": "stdout",
          "text": [
            "Epoch 1/5\n",
            "782/782 [==============================] - 62s 76ms/step - loss: 0.6289 - acc: 0.6062 - val_loss: 0.4991 - val_acc: 0.7634\n",
            "Epoch 2/5\n",
            "782/782 [==============================] - 42s 53ms/step - loss: 0.4019 - acc: 0.8226 - val_loss: 0.4486 - val_acc: 0.7932\n",
            "Epoch 3/5\n",
            "782/782 [==============================] - 41s 52ms/step - loss: 0.3254 - acc: 0.8628 - val_loss: 0.4282 - val_acc: 0.8051\n",
            "Epoch 4/5\n",
            "782/782 [==============================] - 41s 53ms/step - loss: 0.2797 - acc: 0.8898 - val_loss: 0.4441 - val_acc: 0.7970\n",
            "Epoch 5/5\n",
            "782/782 [==============================] - 41s 52ms/step - loss: 0.2472 - acc: 0.9044 - val_loss: 0.4946 - val_acc: 0.7954\n"
          ]
        }
      ]
    },
    {
      "cell_type": "code",
      "source": [
        "predictions = model.predict(X_test)\n",
        "\n",
        "# Print the first 10 predictions and their corresponding true labels\n",
        "for i in range(10):\n",
        "    print(f\"Prediction: {predictions[i]}, True Label: {y_test[i]}\")"
      ],
      "metadata": {
        "id": "jAQETwiZikEY",
        "colab": {
          "base_uri": "https://localhost:8080/"
        },
        "outputId": "acf75c07-9ae6-4fe7-9979-9fd5167e6797"
      },
      "execution_count": 22,
      "outputs": [
        {
          "output_type": "stream",
          "name": "stdout",
          "text": [
            "782/782 [==============================] - 4s 5ms/step\n",
            "Prediction: [0.17154767], True Label: 0\n",
            "Prediction: [0.969304], True Label: 1\n",
            "Prediction: [0.8653559], True Label: 1\n",
            "Prediction: [0.21659173], True Label: 0\n",
            "Prediction: [0.9013918], True Label: 1\n",
            "Prediction: [0.12729345], True Label: 1\n",
            "Prediction: [0.7791731], True Label: 1\n",
            "Prediction: [0.14491707], True Label: 0\n",
            "Prediction: [0.21059997], True Label: 0\n",
            "Prediction: [0.94720775], True Label: 1\n"
          ]
        }
      ]
    }
  ]
}