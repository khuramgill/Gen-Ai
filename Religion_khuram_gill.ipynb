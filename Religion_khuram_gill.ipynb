{
  "nbformat": 4,
  "nbformat_minor": 0,
  "metadata": {
    "colab": {
      "provenance": [],
      "authorship_tag": "ABX9TyOD5LtDPLhtHyMT003f313Q",
      "include_colab_link": true
    },
    "kernelspec": {
      "name": "python3",
      "display_name": "Python 3"
    },
    "language_info": {
      "name": "python"
    }
  },
  "cells": [
    {
      "cell_type": "markdown",
      "metadata": {
        "id": "view-in-github",
        "colab_type": "text"
      },
      "source": [
        "<a href=\"https://colab.research.google.com/github/khuramgill/Gen-Ai/blob/main/Religion_khuram_gill.ipynb\" target=\"_parent\"><img src=\"https://colab.research.google.com/assets/colab-badge.svg\" alt=\"Open In Colab\"/></a>"
      ]
    },
    {
      "cell_type": "markdown",
      "source": [
        "**Load Libraries and Dataset**"
      ],
      "metadata": {
        "id": "4vMwt9wD-e4i"
      }
    },
    {
      "cell_type": "code",
      "execution_count": 4,
      "metadata": {
        "colab": {
          "base_uri": "https://localhost:8080/"
        },
        "id": "BzKtzYGd7HYR",
        "outputId": "ab9e85ce-0428-4080-9f68-031219a04e2d"
      },
      "outputs": [
        {
          "output_type": "stream",
          "name": "stdout",
          "text": [
            "             religion  <$10k  $10-20k  $20-30k  $30-40k  $40-50k  $50-75k  \\\n",
            "0            Agnostic     27       34       60       81       76      137   \n",
            "1             Atheist     12       27       37       52       35       70   \n",
            "2            Buddhist     27       21       30       34       33       58   \n",
            "3            Catholic    418      617      732      670      638     1116   \n",
            "4  Don’t know/refused     15       14       15       11       10       35   \n",
            "\n",
            "   $75-100k  $100-150k  >150k  Don't know/refused  \n",
            "0       122        109     84                  96  \n",
            "1        73         59     74                  76  \n",
            "2        62         39     53                  54  \n",
            "3       949        792    633                1489  \n",
            "4        21         17     18                 116  \n"
          ]
        }
      ],
      "source": [
        "import pandas as pd\n",
        "\n",
        "\n",
        "data = pd.read_csv('/content/religion.csv')\n",
        "print(data.head())\n"
      ]
    },
    {
      "cell_type": "markdown",
      "source": [
        "**Rename Columns:** Rename the columns to make them more consistent and easier to reference (e.g., replacing spaces with underscores)."
      ],
      "metadata": {
        "id": "kbjJyHGR-yVZ"
      }
    },
    {
      "cell_type": "code",
      "source": [
        "data.columns = data.columns.str.strip().str.replace(' ', '_')\n",
        "print(data.columns)"
      ],
      "metadata": {
        "colab": {
          "base_uri": "https://localhost:8080/"
        },
        "id": "3oXpBe_K8ABg",
        "outputId": "c37890c7-de0a-4a27-b6a1-e99f8164f305"
      },
      "execution_count": 5,
      "outputs": [
        {
          "output_type": "stream",
          "name": "stdout",
          "text": [
            "Index(['religion', '<$10k', '$10-20k', '$20-30k', '$30-40k', '$40-50k',\n",
            "       '$50-75k', '$75-100k', '$100-150k', '>150k', 'Don't_know/refused'],\n",
            "      dtype='object')\n"
          ]
        }
      ]
    },
    {
      "cell_type": "code",
      "source": [
        "print(data.head())"
      ],
      "metadata": {
        "colab": {
          "base_uri": "https://localhost:8080/"
        },
        "id": "P9qOubJc8Qa3",
        "outputId": "63e07dd7-db95-4d67-aa97-fe047d7d65e4"
      },
      "execution_count": 3,
      "outputs": [
        {
          "output_type": "stream",
          "name": "stdout",
          "text": [
            "             religion  <$10k  $10-20k  $20-30k  $30-40k  $40-50k  $50-75k  \\\n",
            "0            Agnostic     27       34       60       81       76      137   \n",
            "1             Atheist     12       27       37       52       35       70   \n",
            "2            Buddhist     27       21       30       34       33       58   \n",
            "3            Catholic    418      617      732      670      638     1116   \n",
            "4  Don’t know/refused     15       14       15       11       10       35   \n",
            "\n",
            "   $75-100k  $100-150k  >150k  Don't know/refused  \n",
            "0       122        109     84                  96  \n",
            "1        73         59     74                  76  \n",
            "2        62         39     53                  54  \n",
            "3       949        792    633                1489  \n",
            "4        21         17     18                 116  \n"
          ]
        }
      ]
    },
    {
      "cell_type": "markdown",
      "source": [
        "**Handle Missing Values:** Identify missing values and either fill or drop them, depending on the situation. For simplicity, we'll drop rows with missing values."
      ],
      "metadata": {
        "id": "8ZoLGsC2_LUT"
      }
    },
    {
      "cell_type": "code",
      "source": [
        "data = data.dropna()\n"
      ],
      "metadata": {
        "id": "W74L-vSG_Psr"
      },
      "execution_count": 6,
      "outputs": []
    },
    {
      "cell_type": "markdown",
      "source": [
        "**Remove Extra Spaces in String Data** Clean data by removing any leading or trailing spaces that might exist."
      ],
      "metadata": {
        "id": "u7Z9ZiD7_WgB"
      }
    },
    {
      "cell_type": "code",
      "source": [
        "data = data.applymap(lambda x: str(x).strip() if isinstance(x, str) else x)\n"
      ],
      "metadata": {
        "colab": {
          "base_uri": "https://localhost:8080/"
        },
        "id": "oejDbRpC_qQS",
        "outputId": "b018d4ed-626e-4b9a-f076-3d74c1e0e82d"
      },
      "execution_count": 7,
      "outputs": [
        {
          "output_type": "stream",
          "name": "stderr",
          "text": [
            "<ipython-input-7-2d475c5209d7>:1: FutureWarning: DataFrame.applymap has been deprecated. Use DataFrame.map instead.\n",
            "  data = data.applymap(lambda x: str(x).strip() if isinstance(x, str) else x)\n"
          ]
        }
      ]
    },
    {
      "cell_type": "markdown",
      "source": [
        "**Convert Columns to Appropriate Data Types**"
      ],
      "metadata": {
        "id": "zzrSU0dX_2W6"
      }
    },
    {
      "cell_type": "code",
      "source": [
        "for col in data.columns[1:]:\n",
        "    data[col] = pd.to_numeric(data[col], errors='coerce')\n"
      ],
      "metadata": {
        "id": "9jiGneL-_5gx"
      },
      "execution_count": 8,
      "outputs": []
    },
    {
      "cell_type": "markdown",
      "source": [
        "**Remove Duplicates**"
      ],
      "metadata": {
        "id": "nuIwDtZm_9jp"
      }
    },
    {
      "cell_type": "code",
      "source": [
        "data = data.drop_duplicates()\n"
      ],
      "metadata": {
        "id": "LK6D81R6ADHI"
      },
      "execution_count": 9,
      "outputs": []
    },
    {
      "cell_type": "markdown",
      "source": [
        "**Final Data Check**"
      ],
      "metadata": {
        "id": "nDwJJUjoAKUB"
      }
    },
    {
      "cell_type": "code",
      "source": [
        "print(data.info())\n",
        "print(data.head())\n"
      ],
      "metadata": {
        "colab": {
          "base_uri": "https://localhost:8080/"
        },
        "id": "pTsNdQL-ALu0",
        "outputId": "a5117a53-6706-44ee-9476-220aa6f70f48"
      },
      "execution_count": 10,
      "outputs": [
        {
          "output_type": "stream",
          "name": "stdout",
          "text": [
            "<class 'pandas.core.frame.DataFrame'>\n",
            "RangeIndex: 18 entries, 0 to 17\n",
            "Data columns (total 11 columns):\n",
            " #   Column              Non-Null Count  Dtype \n",
            "---  ------              --------------  ----- \n",
            " 0   religion            18 non-null     object\n",
            " 1   <$10k               18 non-null     int64 \n",
            " 2   $10-20k             18 non-null     int64 \n",
            " 3   $20-30k             18 non-null     int64 \n",
            " 4   $30-40k             18 non-null     int64 \n",
            " 5   $40-50k             18 non-null     int64 \n",
            " 6   $50-75k             18 non-null     int64 \n",
            " 7   $75-100k            18 non-null     int64 \n",
            " 8   $100-150k           18 non-null     int64 \n",
            " 9   >150k               18 non-null     int64 \n",
            " 10  Don't_know/refused  18 non-null     int64 \n",
            "dtypes: int64(10), object(1)\n",
            "memory usage: 1.7+ KB\n",
            "None\n",
            "             religion  <$10k  $10-20k  $20-30k  $30-40k  $40-50k  $50-75k  \\\n",
            "0            Agnostic     27       34       60       81       76      137   \n",
            "1             Atheist     12       27       37       52       35       70   \n",
            "2            Buddhist     27       21       30       34       33       58   \n",
            "3            Catholic    418      617      732      670      638     1116   \n",
            "4  Don’t know/refused     15       14       15       11       10       35   \n",
            "\n",
            "   $75-100k  $100-150k  >150k  Don't_know/refused  \n",
            "0       122        109     84                  96  \n",
            "1        73         59     74                  76  \n",
            "2        62         39     53                  54  \n",
            "3       949        792    633                1489  \n",
            "4        21         17     18                 116  \n"
          ]
        }
      ]
    }
  ]
}